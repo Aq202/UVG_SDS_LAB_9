{
 "cells": [
  {
   "cell_type": "markdown",
   "id": "ab484d70",
   "metadata": {},
   "source": [
    "# Laboratorio 9\n",
    "## Ataque y defensa de modelos de Deep Learning\n",
    "Universidad del Valle de Guatemala<br>\n",
    "Security Data Science<br>\n",
    "Pablo Andrés Zamora Vásquez - 21780<br>\n",
    "Diego Andrés Morales Aquino - 21762<br>"
   ]
  },
  {
   "cell_type": "markdown",
   "id": "f65ac35a",
   "metadata": {},
   "source": [
    "## Primera parte: Ataques"
   ]
  },
  {
   "cell_type": "code",
   "execution_count": 1,
   "id": "c6655534",
   "metadata": {},
   "outputs": [],
   "source": [
    "import tensorflow as tf\n",
    "from tensorflow import keras\n",
    "from tensorflow.keras.preprocessing.image import ImageDataGenerator\n",
    "from art.estimators.classification import TensorFlowV2Classifier\n",
    "from art.attacks.evasion import FastGradientMethod\n",
    "from sklearn.metrics import accuracy_score\n",
    "import numpy as np"
   ]
  },
  {
   "cell_type": "code",
   "execution_count": null,
   "id": "7178e890",
   "metadata": {},
   "outputs": [
    {
     "name": "stderr",
     "output_type": "stream",
     "text": [
      "c:\\Users\\Pablo Zamora\\AppData\\Local\\Programs\\Python\\Python311\\Lib\\site-packages\\keras\\src\\saving\\saving_lib.py:415: UserWarning: Skipping variable loading for optimizer 'rmsprop', because it has 12 variables whereas the saved optimizer has 22 variables. \n",
      "  saveable.load_own_variables(weights_store.get(inner_path))\n"
     ]
    }
   ],
   "source": [
    "# Modelo entrenado\n",
    "model = keras.models.load_model(\"malware_classification_model.keras\")\n",
    "\n",
    "# Recompilar con eager mode habilitado\n",
    "model.compile(\n",
    "    optimizer=\"adam\",\n",
    "    loss=\"categorical_crossentropy\",\n",
    "    metrics=[\"accuracy\"],\n",
    "    run_eagerly=True  # Necesario para ART con TF2\n",
    ")"
   ]
  },
  {
   "cell_type": "code",
   "execution_count": 3,
   "id": "47632128",
   "metadata": {},
   "outputs": [
    {
     "name": "stdout",
     "output_type": "stream",
     "text": [
      "Found 2790 images belonging to 25 classes.\n"
     ]
    }
   ],
   "source": [
    "# Cargar datos\n",
    "dataset_path = \"malimg_paper_dataset_imgs\"\n",
    "img_height, img_width = 64, 64\n",
    "batch_size = 32\n",
    "seed = 42\n",
    "\n",
    "datagen = ImageDataGenerator(rescale=1.0 / 255, validation_split=0.3)\n",
    "\n",
    "val_generator = datagen.flow_from_directory(\n",
    "    dataset_path,\n",
    "    target_size=(img_height, img_width),\n",
    "    batch_size=batch_size,\n",
    "    class_mode='categorical',\n",
    "    subset='validation',\n",
    "    shuffle=False,\n",
    "    seed=seed\n",
    ")\n",
    "\n",
    "X_test, y_test = next(val_generator)\n",
    "for _ in range(len(val_generator) - 1):\n",
    "    x, y = next(val_generator)\n",
    "    X_test = np.concatenate((X_test, x))\n",
    "    y_test = np.concatenate((y_test, y))"
   ]
  },
  {
   "cell_type": "code",
   "execution_count": 4,
   "id": "8423c4bc",
   "metadata": {},
   "outputs": [],
   "source": [
    "# Envolver modelo con ART\n",
    "\n",
    "classifier = TensorFlowV2Classifier(\n",
    "    model=model,\n",
    "    nb_classes=25,\n",
    "    input_shape=(64, 64, 3),\n",
    "    loss_object=tf.keras.losses.CategoricalCrossentropy(),\n",
    "    clip_values=(0.0, 1.0)\n",
    ")"
   ]
  },
  {
   "cell_type": "markdown",
   "id": "146900bc",
   "metadata": {},
   "source": [
    "### Ataque #1: FGSM (Evasión)"
   ]
  },
  {
   "cell_type": "code",
   "execution_count": null,
   "id": "7fd426c5",
   "metadata": {},
   "outputs": [],
   "source": [
    "# Ataque FGSM\n",
    "attack = FastGradientMethod(estimator=classifier, eps=0.1)\n",
    "X_adv = attack.generate(x=X_test)"
   ]
  },
  {
   "cell_type": "code",
   "execution_count": null,
   "id": "704f634b",
   "metadata": {},
   "outputs": [
    {
     "name": "stdout",
     "output_type": "stream",
     "text": [
      "Accuracy original: 0.9594982078853047\n",
      "Accuracy con ataque FGSM: 0.23225806451612904\n"
     ]
    }
   ],
   "source": [
    "# Evaluación\n",
    "preds_original = np.argmax(classifier.predict(X_test), axis=1)\n",
    "preds_adv = np.argmax(classifier.predict(X_adv), axis=1)\n",
    "true_labels = np.argmax(y_test, axis=1)\n",
    "\n",
    "print(\"Accuracy original:\", accuracy_score(true_labels, preds_original))\n",
    "print(\"Accuracy con ataque FGSM:\", accuracy_score(true_labels, preds_adv))"
   ]
  },
  {
   "cell_type": "markdown",
   "id": "ba0d5372",
   "metadata": {},
   "source": [
    "### Ataque #2: Black-box (Inferencia)"
   ]
  },
  {
   "cell_type": "code",
   "execution_count": 16,
   "id": "ccd33e78",
   "metadata": {},
   "outputs": [
    {
     "name": "stdout",
     "output_type": "stream",
     "text": [
      "Found 6549 images belonging to 25 classes.\n"
     ]
    }
   ],
   "source": [
    "# Reutilizar el mismo ImageDataGenerator pero con subset=\"training\"\n",
    "train_generator = datagen.flow_from_directory(\n",
    "    dataset_path,\n",
    "    target_size=(img_height, img_width),\n",
    "    batch_size=batch_size,\n",
    "    class_mode='categorical',\n",
    "    subset='training',\n",
    "    shuffle=False,\n",
    "    seed=seed\n",
    ")\n",
    "\n",
    "# Convertir train_generator en arrays\n",
    "X_train, y_train = next(train_generator)\n",
    "for _ in range(len(train_generator) - 1):\n",
    "    x, y = next(train_generator)\n",
    "    X_train = np.concatenate((X_train, x))\n",
    "    y_train = np.concatenate((y_train, y))\n"
   ]
  },
  {
   "cell_type": "code",
   "execution_count": null,
   "id": "a237dacd",
   "metadata": {},
   "outputs": [
    {
     "name": "stdout",
     "output_type": "stream",
     "text": [
      "TPR (miembros):    1.000\n",
      "FPR (no-miembros): 0.513\n",
      "Advantage:      0.487\n"
     ]
    }
   ],
   "source": [
    "from art.attacks.inference.membership_inference import MembershipInferenceBlackBox\n",
    "import numpy as np\n",
    "\n",
    "# 1) Balancear tamaños\n",
    "min_len = min(len(X_train), len(X_test))\n",
    "X_train_bal, y_train_bal = X_train[:min_len], y_train[:min_len]\n",
    "X_test_bal,  y_test_bal  = X_test[:min_len],  y_test[:min_len]\n",
    "\n",
    "# 2) Instanciar el ataque\n",
    "mi_attack = MembershipInferenceBlackBox(\n",
    "    estimator=classifier,\n",
    "    input_type=\"prediction\",      # usa directamente las probabilidades del modelo\n",
    "    attack_model_type=\"nn\",       \n",
    "    scaler_type=\"minmax\",         # normaliza las features antes de entrenar el adversario\n",
    "    nn_model_epochs=50,           \n",
    "    nn_model_batch_size=32\n",
    ")\n",
    "\n",
    "# 3) Entrenar el ataque\n",
    "mi_attack.fit(\n",
    "    x=X_train_bal,\n",
    "    y=y_train_bal,\n",
    "    test_x=X_test_bal,\n",
    "    test_y=y_test_bal\n",
    ")\n",
    "\n",
    "# 4) Inferir membership (pasando siempre las etiquetas)\n",
    "pred_train = mi_attack.infer(x=X_train_bal, y=y_train_bal)\n",
    "pred_test  = mi_attack.infer(x=X_test_bal,  y=y_test_bal)\n",
    "\n",
    "# 5) Métricas\n",
    "tpr       = np.mean(pred_train == 1)\n",
    "fpr       = np.mean(pred_test  == 1)\n",
    "advantage = tpr - fpr\n",
    "\n",
    "print(f\"TPR (miembros):    {tpr:.3f}\")\n",
    "print(f\"FPR (no-miembros): {fpr:.3f}\")\n",
    "print(f\"Advantage:      {advantage:.3f}\")\n"
   ]
  }
 ],
 "metadata": {
  "kernelspec": {
   "display_name": "Python 3",
   "language": "python",
   "name": "python3"
  },
  "language_info": {
   "codemirror_mode": {
    "name": "ipython",
    "version": 3
   },
   "file_extension": ".py",
   "mimetype": "text/x-python",
   "name": "python",
   "nbconvert_exporter": "python",
   "pygments_lexer": "ipython3",
   "version": "3.11.7"
  }
 },
 "nbformat": 4,
 "nbformat_minor": 5
}
